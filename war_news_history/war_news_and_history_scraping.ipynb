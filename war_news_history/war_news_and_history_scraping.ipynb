{
 "cells": [
  {
   "cell_type": "markdown",
   "metadata": {},
   "source": [
    "# SCRAPING WAR HISTORY ONLINE NEWS\n",
    "### 2023.12.13"
   ]
  },
  {
   "cell_type": "code",
   "execution_count": 12,
   "metadata": {},
   "outputs": [],
   "source": [
    "from bs4 import BeautifulSoup, NavigableString\n",
    "from urllib.parse import urljoin\n",
    "from tqdm import tqdm\n",
    "import requests\n",
    "import pandas as pd\n",
    "import csv"
   ]
  },
  {
   "cell_type": "code",
   "execution_count": null,
   "metadata": {},
   "outputs": [],
   "source": [
    "base_url = 'https://www.warhistoryonline.com/category/news/page/'"
   ]
  },
  {
   "cell_type": "code",
   "execution_count": 18,
   "metadata": {},
   "outputs": [],
   "source": [
    "#<p>태그 내에 <a>태그 사이의 단어 띄어쓰기 적용 함수\n",
    "def get_text_with_spaces(tag):\n",
    "    parts = []\n",
    "    for element in tag.descendants:\n",
    "        if isinstance(element, NavigableString):\n",
    "            parts.append(element)\n",
    "        elif element.name == 'a':\n",
    "            if parts and not parts[-1].endswith(' '):\n",
    "                parts.append(' ')\n",
    "            parts.append(element.get_text())\n",
    "            parts.append(' ')\n",
    "    return ''.join(parts)\n",
    "\n",
    "#뉴스 스크랩 후 csv파일로 저장 함수\n",
    "def scrape_news(start_page, end_page, file_name):\n",
    "    \n",
    "    with open(file_name, 'w', newline='', encoding='utf-8-sig') as file:\n",
    "        writer = csv.writer(file)\n",
    "        writer.writerow(['Title', 'Date', 'Text'])\n",
    "\n",
    "        for page_num in tqdm(range(start_page, end_page + 1), desc=\"Processing pages\"):\n",
    "            try:\n",
    "                url = f\"{base_url}{page_num}\"\n",
    "                res = requests.get(url)\n",
    "                res.raise_for_status()\n",
    "                soup = BeautifulSoup(res.text, 'lxml')\n",
    "                html_links = soup.select('h3.entry-title a[href$=\".html\"]')\n",
    "\n",
    "                for link_tag in tqdm(html_links, desc= f\"Processing links on {page_num}\"):\n",
    "                    link = link_tag['href']\n",
    "                    title = link_tag.get_text(strip=True)\n",
    "\n",
    "                    article_res = requests.get(link)\n",
    "                    article_res.raise_for_status()\n",
    "                    article_soup = BeautifulSoup(article_res.text, 'lxml')\n",
    "\n",
    "                    date_tag = article_soup.select_one('time')\n",
    "                    date = date_tag.get_text(strip=True) if date_tag else 'No Date'\n",
    "\n",
    "                    footer_p_tags = {p for footer in article_soup.find_all('footer') for p in footer.find_all('p')}\n",
    "                    p_texts = [get_text_with_spaces(p) for p in article_soup.find_all('p') if p not in footer_p_tags]\n",
    "                    all_text = ' '.join(p_texts)\n",
    "\n",
    "                    writer.writerow([title, date, all_text])\n",
    "            \n",
    "            except requests.RequestException as e:\n",
    "                print(f\"Request error on page {page_num}: {e}\")\n",
    "            except Exception as e:\n",
    "                print(f\"Unexpected error on page {page_num}: {e}\")"
   ]
  },
  {
   "cell_type": "code",
   "execution_count": null,
   "metadata": {},
   "outputs": [],
   "source": [
    "#Action\n",
    "scrape_news(12, 15, 'war_news_text.csv')"
   ]
  }
 ],
 "metadata": {
  "kernelspec": {
   "display_name": "base",
   "language": "python",
   "name": "python3"
  },
  "language_info": {
   "codemirror_mode": {
    "name": "ipython",
    "version": 3
   },
   "file_extension": ".py",
   "mimetype": "text/x-python",
   "name": "python",
   "nbconvert_exporter": "python",
   "pygments_lexer": "ipython3",
   "version": "3.11.5"
  }
 },
 "nbformat": 4,
 "nbformat_minor": 2
}
